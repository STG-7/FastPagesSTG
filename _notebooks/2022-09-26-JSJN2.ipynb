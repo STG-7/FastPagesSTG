{
 "cells": [
  {
   "cell_type": "markdown",
   "metadata": {},
   "source": [
    "# Using HTML fragments and JavaScript data to build a table\n",
    "> Week 5\n",
    "- toc: true\n",
    "- categories: [Week 5]\n",
    "- comments: true"
   ]
  },
  {
   "cell_type": "markdown",
   "metadata": {},
   "source": [
    "{% include submenu.html %}"
   ]
  },
  {
   "cell_type": "markdown",
   "metadata": {},
   "source": [
    "### Defining a dictionary with data"
   ]
  },
  {
   "cell_type": "code",
   "execution_count": 11,
   "metadata": {
    "vscode": {
     "languageId": "javascript"
    }
   },
   "outputs": [],
   "source": [
    "var dict = {\n",
    "    ScrumLeader: \"Shaurya Goel\",\n",
    "    BackendDeveloper: \"Alex Lu\",\n",
    "    FrontendDeveloper: \"Haseeb Beg\",\n",
    "    FrontendDeveloper2: \"Tirth Thakar\",\n",
    "    DevOps: \"Evan Apari\",\n",
    " };"
   ]
  },
  {
   "cell_type": "markdown",
   "metadata": {},
   "source": [
    "### Pritning out Data in an HTML Table"
   ]
  },
  {
   "cell_type": "code",
   "execution_count": 27,
   "metadata": {
    "vscode": {
     "languageId": "javascript"
    }
   },
   "outputs": [
    {
     "data": {
      "text/html": [
       "<table><tr><th>Role</th><th>Member</th></tr><tr><td>ScrumLeader</td><td>Shaurya Goel</td></tr><tr><td>BackendDeveloper</td><td>Alex Lu</td></tr><tr><td>FrontendDeveloper</td><td>Haseeb Beg</td></tr><tr><td>FrontendDeveloper2</td><td>Tirth Thakar</td></tr><tr><td>DevOps</td><td>Evan Apari</td></tr></table>"
      ]
     },
     "execution_count": 27,
     "metadata": {},
     "output_type": "execute_result"
    }
   ],
   "source": [
    "function createTable(data){\n",
    "    var table = \"<table><tr><th>Role</th><th>Member</th></tr>\"\n",
    "    var keys = Object.keys(data);\n",
    "\n",
    "    for(var index in keys){\n",
    "        const key = keys[index];\n",
    "        const value = dict[key];\n",
    "        table += \"<tr><td>\"+key+\"</td><td>\"+value+\"</td></tr>\";\n",
    "    }\n",
    "\n",
    "    table += \"</table>\";\n",
    "    return table;\n",
    "}\n",
    "\n",
    "$$.html(createTable(dict));\n"
   ]
  }
 ],
 "metadata": {
  "kernelspec": {
   "display_name": "Python 3.10.6 64-bit (microsoft store)",
   "language": "python",
   "name": "python3"
  },
  "language_info": {
   "file_extension": ".js",
   "mimetype": "application/javascript",
   "name": "python",
   "version": "3.10.6"
  },
  "orig_nbformat": 4,
  "vscode": {
   "interpreter": {
    "hash": "dc5407af6d5b81b343ff37fc9a0fc4ce640cd799ad52d618c06b575d95b9b3ed"
   }
  }
 },
 "nbformat": 4,
 "nbformat_minor": 2
}
