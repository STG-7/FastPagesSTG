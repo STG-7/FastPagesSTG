{
 "cells": [
  {
   "cell_type": "markdown",
   "metadata": {},
   "source": [
    "# Group 7 HACKS (Sections 14-15)\n",
    "> Section 7 HACKS - Shaurya Goel\n",
    "- toc: true\n",
    "- comments: true"
   ]
  },
  {
   "cell_type": "markdown",
   "metadata": {},
   "source": [
    "# Reflection:\n",
    "\n",
    "I gained knowledge about software libraries, current code segments' uses, APIs, and the value of documentation for these APIs and software libraries from this session. In order to create programs more quickly, I found that it is quite helpful to reuse existing procedures in code. In addition, it's crucial to provide the right documentation for these operations, outlining what each step does and what the program is meant to achieve. I also gained additional knowledge about the Python package \"random,\" which is frequently utilized. It is really cool that it can function as both a random number generator and a number shuffler."
   ]
  },
  {
   "cell_type": "markdown",
   "metadata": {},
   "source": [
    "# Multiple Choice:\n",
    "\n",
    "1. What does random (a,b) function generate?\n",
    "\n",
    "A. A random integer from a to b exclusive\n",
    "\n",
    "B. A random integer from a to b inclusive\n",
    "\n",
    "C. A random word from variable a to variable b exclusive\n",
    "\n",
    "D. A random word from variable a to variable b inclusive\n",
    "\n",
    "**Option B is the correct answer, since the random function is used to generate a random number from a range a to b, and the random number can be the bounds of that range as well, therefore rendering it INCLUSIVE.**\n",
    "\n",
    "2. What is x, y, and z in random.randrange(x, y, z)?\n",
    "\n",
    "A. x = start, y = stop, z = step\n",
    "\n",
    "B. x = start, y = step, z = stop\n",
    "\n",
    "C. x = stop, y = start, z = step\n",
    "\n",
    "D. x = step, y = start, z = stop\n",
    "\n",
    "**Option A is the correct answer, because x and y reference the start and stop of the range you want to pull from and z is the step, or the number you are adding by.**\n",
    "\n",
    "3. Which of the following is NOT part of the random library?\n",
    "A. random.item\n",
    "\n",
    "B. random.random\n",
    "\n",
    "C. random.shuffle\n",
    "\n",
    "D. random.randint\n",
    "\n",
    "**Option A is the correct answer because all the other ones have particular functions. I initially got “random.item” confused with “random.choice”. I also initially thought it was random.random, but I found out that can find a random floating point.**\n",
    "\n",
    "\n",
    "\n",
    "# Short Answer Questions:\n",
    "\n",
    "1. What is the advantage of using libraries?\n",
    "\n",
    "**Libraries allow us to use already tested and functional code in our own procedures. This creates a more efficient programming process.**\n",
    "\n",
    "2. Write a thorough documentation of the following code\n",
    "\n"
   ]
  },
  {
   "cell_type": "code",
   "execution_count": null,
   "metadata": {},
   "outputs": [],
   "source": [
    "import random \n",
    "\n",
    "names_string = input(\"Give me everybody's names, seperated by a comma.\")\n",
    "names = names_string.split(\",\")\n",
    "\n",
    "num_items = len(names)\n",
    "\n",
    "random_choice = random.randint(0, num_items - 1)\n",
    "\n",
    "person_who_will_pay = names[random_choice]\n",
    "\n",
    "print(f\"{person_who_will_pay} is going to buy the meal today!\")"
   ]
  },
  {
   "cell_type": "markdown",
   "metadata": {},
   "source": [
    "**This procedure goes through a series of steps. First of all, the random module is imported to be used in this procedure. Then, an input is provided for the user to input everyone's names. The \"names\" variable is then defined as everyone's names split with a comma in between. Then, there is a variable defined as \"num_items\", which measures the number of names inputted.**\n",
    "\n",
    "**Then, the random module comes into place by selecting a random number in between 0 and the number of names - 1, inclusive. Then, in order to figure out the person who will pay the bill, the numbers corresponding to the names are randomized, and the name of the person that the code lands on is printed at the end.**"
   ]
  },
  {
   "cell_type": "markdown",
   "metadata": {},
   "source": [
    "# Coding Challenges\n"
   ]
  },
  {
   "cell_type": "code",
   "execution_count": 2,
   "metadata": {},
   "outputs": [
    {
     "name": "stdout",
     "output_type": "stream",
     "text": [
      "you got these 5 random names: ['Zach', 'Theo', 'Shindi', 'Top Top G', 'Navan']\n"
     ]
    }
   ],
   "source": [
    "import random \n",
    "\n",
    "namesList = [\"Nikhil\",\"Shivansh\",\"Top G\",\"Top Top G\",\"Navan\",\"Me\",\"Justin\",\"Theo\",\"James\",\"Hunter\",\"Pranav\",\"Mihir\",\"LMAO\",\"Shindi\",\"Zach\"]\n",
    "\n",
    "sample_namesList = random.sample(namesList, k=5) # here, k = number of items to select\n",
    "print(f\"you got these 5 random names: {sample_namesList}\")"
   ]
  },
  {
   "cell_type": "code",
   "execution_count": 3,
   "metadata": {},
   "outputs": [
    {
     "name": "stdout",
     "output_type": "stream",
     "text": [
      "Player 1 landed on a 4 and 1 adding up to: 5\n",
      "Player 2 landed on a 5 and 1 adding up to: 6\n",
      "Player 2 is the winner.\n"
     ]
    }
   ],
   "source": [
    "import random \n",
    "\n",
    "player1= random.randrange(1,6)\n",
    "player1t2 = random.randrange(1,6)\n",
    "print(\"Player 1 landed on a\", player1, \"and\", player1t2, \"adding up to:\", player1+player1t2)\n",
    "\n",
    "player2 = random.randrange(1,6)\n",
    "player2t2 = random.randrange(1,6)\n",
    "print(\"Player 2 landed on a\", player2, \"and\", player2t2, \"adding up to:\", player2+player2t2)\n",
    "\n",
    "player1score = player1 + player1t2\n",
    "player2score = player2 + player2t2\n",
    "\n",
    "if player1score > player2score:\n",
    "    print(\"Player 1 is the winner.\")\n",
    "elif player1score == player2score:\n",
    "    print(\"It's a tie.\")\n",
    "else: \n",
    "    print(\"Player 2 is the winner.\")"
   ]
  },
  {
   "cell_type": "markdown",
   "metadata": {},
   "source": [
    "# Extra Credit"
   ]
  },
  {
   "cell_type": "code",
   "execution_count": 1,
   "metadata": {},
   "outputs": [
    {
     "name": "stdout",
     "output_type": "stream",
     "text": [
      "You are starting in this direction: left\n",
      "You will start at this block number: 5\n",
      "Your mission if you choose to accept it is to make it to this block: 23\n",
      "The obstacles are in the following areas: \n",
      "24\n",
      "24\n",
      "7\n",
      "7\n",
      "25\n",
      "2\n"
     ]
    }
   ],
   "source": [
    "import random\n",
    "\n",
    "directions = [\"up\", \"down\", \"left\", \"right\"]\n",
    "\n",
    "start_move = random.choice(directions)\n",
    "start_point = random.randint(1,25)\n",
    "end_point = random.randint(1,25)\n",
    "\n",
    "print(\"You are starting in this direction: \" + start_move)\n",
    "print(\"You will start at this block number: \" + str(start_point))\n",
    "print(\"Your mission if you choose to accept it is to make it to this block: \" + str(end_point))\n",
    "print(\"The obstacles are in the following areas: \")\n",
    "i = 1\n",
    "while i <= 6:\n",
    "    obstacle = random.randint(1,25)\n",
    "    print(str(obstacle))\n",
    "    i += 1\n",
    "    "
   ]
  }
 ],
 "metadata": {
  "kernelspec": {
   "display_name": "Python 3.10.9 64-bit (microsoft store)",
   "language": "python",
   "name": "python3"
  },
  "language_info": {
   "codemirror_mode": {
    "name": "ipython",
    "version": 3
   },
   "file_extension": ".py",
   "mimetype": "text/x-python",
   "name": "python",
   "nbconvert_exporter": "python",
   "pygments_lexer": "ipython3",
   "version": "3.10.9"
  },
  "orig_nbformat": 4,
  "vscode": {
   "interpreter": {
    "hash": "dc5407af6d5b81b343ff37fc9a0fc4ce640cd799ad52d618c06b575d95b9b3ed"
   }
  }
 },
 "nbformat": 4,
 "nbformat_minor": 2
}
