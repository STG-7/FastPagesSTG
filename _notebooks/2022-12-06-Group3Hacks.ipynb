{
 "cells": [
  {
   "cell_type": "markdown",
   "metadata": {},
   "source": [
    "# Unit 3 Sections 8 and 10 Excercises - Shaurya Goel\n",
    "> Hacks for Shaurya Goel\n",
    "\n",
    "- toc: true\n",
    "- badges: true\n",
    "- comments: true\n",
    "- categories: [csp]"
   ]
  },
  {
   "cell_type": "markdown",
   "metadata": {},
   "source": [
    "# Excercise 1"
   ]
  },
  {
   "cell_type": "code",
   "execution_count": 1,
   "metadata": {},
   "outputs": [
    {
     "name": "stdout",
     "output_type": "stream",
     "text": [
      "[5, 4, 3, 2, 1]\n",
      "[5, 4, 3, 2, 1]\n"
     ]
    }
   ],
   "source": [
    "list  = [1, 2, 3, 4, 5]\n",
    "newlist = [] # Defining new list\n",
    "interval = len(list) - 1 # Another variable to store highest index\n",
    "\n",
    "# for loop, goes through all items\n",
    "for index in range(1, len(list) + 1):\n",
    "    i = index - 1\n",
    "    newlist.append(list[interval - i]) # appends all numbers backwards\n",
    "\n",
    "print(newlist)\n",
    "# Using commands to reverse\n",
    "list.reverse()\n",
    "print(list)"
   ]
  },
  {
   "cell_type": "markdown",
   "metadata": {},
   "source": [
    "# Excercise 2"
   ]
  },
  {
   "cell_type": "code",
   "execution_count": 2,
   "metadata": {},
   "outputs": [
    {
     "name": "stdout",
     "output_type": "stream",
     "text": [
      "[0, 1, 2, 3, 4, 5, 6, 7, 8, 9]\n"
     ]
    }
   ],
   "source": [
    "list = [9, 8, 4, 3, 5, 2, 6, 7, 1, 0]\n",
    "\n",
    "def bubble_sort(numbers): # function\n",
    "    has_swapped = True # check if the list has been swapped\n",
    "    while(has_swapped):\n",
    "        has_swapped = False\n",
    "        for i in range(len(numbers) - 1): # checks every value\n",
    "            if numbers[i] > numbers[i+1]: # checks if the current value is larger than the next one\n",
    "                holder = numbers[i] # temporary var\n",
    "                numbers[i] = numbers[i+1] # transferring values\n",
    "                numbers[i+1] = holder\n",
    "                has_swapped = True # List has been swapped\n",
    "    return numbers\n",
    "\n",
    "print(bubble_sort(list))"
   ]
  },
  {
   "cell_type": "markdown",
   "metadata": {},
   "source": [
    "# Reflection\n",
    "\n",
    "I gained a lot of knowledge about list manipulation from these tasks. I was given access to several code segments that let me work with lists. Additionally, I modified lists using algorithms. For some applications, it's critical to double-check the values of the indices. Indices play a crucial role in lists since they indicate the location of each data point. I discovered how to make a bubble sort list and discovered the functions of each command as well as how to construct them. how to print a reversed list as well."
   ]
  }
 ],
 "metadata": {
  "kernelspec": {
   "display_name": "Python 3.10.8 64-bit (microsoft store)",
   "language": "python",
   "name": "python3"
  },
  "language_info": {
   "codemirror_mode": {
    "name": "ipython",
    "version": 3
   },
   "file_extension": ".py",
   "mimetype": "text/x-python",
   "name": "python",
   "nbconvert_exporter": "python",
   "pygments_lexer": "ipython3",
   "version": "3.10.8"
  },
  "orig_nbformat": 4,
  "vscode": {
   "interpreter": {
    "hash": "dc5407af6d5b81b343ff37fc9a0fc4ce640cd799ad52d618c06b575d95b9b3ed"
   }
  }
 },
 "nbformat": 4,
 "nbformat_minor": 2
}
