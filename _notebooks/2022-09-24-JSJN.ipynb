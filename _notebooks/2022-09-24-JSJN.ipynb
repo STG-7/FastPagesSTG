{
 "cells": [
  {
   "cell_type": "markdown",
   "metadata": {},
   "source": [
    "# Usage of Jupyter JavaScript kernel\n",
    "> Week 5\n",
    "- toc: true\n",
    "- categories: [Week 5]\n",
    "- comments: true"
   ]
  },
  {
   "cell_type": "markdown",
   "metadata": {},
   "source": [
    "# Usage of Jupyter JavaScript kernel"
   ]
  },
  {
   "cell_type": "markdown",
   "metadata": {},
   "source": [
    "### Printing \"Hello World\""
   ]
  },
  {
   "cell_type": "code",
   "execution_count": 1,
   "metadata": {},
   "outputs": [
    {
     "name": "stdout",
     "output_type": "stream",
     "text": [
      "Hello World\n"
     ]
    }
   ],
   "source": [
    "console.log(\"Hello World\")"
   ]
  },
  {
   "cell_type": "markdown",
   "metadata": {},
   "source": [
    "### Printing \"Hello World\" with Encapsulation"
   ]
  },
  {
   "cell_type": "code",
   "execution_count": 2,
   "metadata": {},
   "outputs": [
    {
     "name": "stdout",
     "output_type": "stream",
     "text": [
      "Hello World\n"
     ]
    }
   ],
   "source": [
    "msg = \"Hello World\"\n",
    "console.log(msg)"
   ]
  },
  {
   "cell_type": "markdown",
   "metadata": {},
   "source": [
    "### Function that multiplies two numbers"
   ]
  },
  {
   "cell_type": "code",
   "execution_count": 45,
   "metadata": {},
   "outputs": [
    {
     "data": {
      "text/plain": [
       "5930971004"
      ]
     },
     "execution_count": 45,
     "metadata": {},
     "output_type": "execute_result"
    }
   ],
   "source": [
    "function myFunction(a, b) {\n",
    "    return a * b;\n",
    "  }\n",
    "  myFunction(659,8999956)"
   ]
  },
  {
   "cell_type": "markdown",
   "metadata": {},
   "source": [
    "### Function that checks if a number is even or odd"
   ]
  },
  {
   "cell_type": "code",
   "execution_count": 44,
   "metadata": {},
   "outputs": [
    {
     "name": "stdout",
     "output_type": "stream",
     "text": [
      "35 is an odd number\n"
     ]
    }
   ],
   "source": [
    "function NumType(x){\n",
    "    if (x % 2 == 0) {\n",
    "        console.log(x + \" is an even number\");\n",
    "    }  else {\n",
    "       console.log(x + \" is an odd number\");\n",
    "    }\n",
    "    \n",
    "    }\n",
    "    NumType(35)"
   ]
  },
  {
   "cell_type": "markdown",
   "metadata": {},
   "source": [
    "### JavaScript Data that will be used for the HTML Post"
   ]
  },
  {
   "cell_type": "code",
   "execution_count": 46,
   "metadata": {},
   "outputs": [
    {
     "name": "stdout",
     "output_type": "stream",
     "text": [
      "{ ScrumLeader: 'Shaurya Goel',\n",
      "  BackendDeveloper: 'Alex Lu',\n",
      "  FrontendDeveloper: 'Haseeb Beg',\n",
      "  FrontendDeveloper2: 'Tirth Thakar',\n",
      "  DevOps: 'Evan Apari' }\n"
     ]
    }
   ],
   "source": [
    "var dict = {\n",
    "\n",
    "    ScrumLeader: \"Shaurya Goel\",\n",
    " \n",
    "    BackendDeveloper: \"Alex Lu\",\n",
    " \n",
    "    FrontendDeveloper: \"Haseeb Beg\",\n",
    " \n",
    "    FrontendDeveloper2: \"Tirth Thakar\",\n",
    " \n",
    "    DevOps: \"Evan Apari\",\n",
    " \n",
    " };\n",
    "\n",
    " console.log(dict)"
   ]
  }
 ],
 "metadata": {
  "kernelspec": {
   "display_name": "JavaScript (Node.js)",
   "language": "javascript",
   "name": "javascript"
  },
  "language_info": {
   "file_extension": ".js",
   "mimetype": "application/javascript",
   "name": "javascript",
   "version": "6.11.2"
  },
  "orig_nbformat": 4,
  "vscode": {
   "interpreter": {
    "hash": "dc5407af6d5b81b343ff37fc9a0fc4ce640cd799ad52d618c06b575d95b9b3ed"
   }
  }
 },
 "nbformat": 4,
 "nbformat_minor": 2
}
