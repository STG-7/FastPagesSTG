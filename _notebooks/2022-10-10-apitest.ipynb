{
 "cells": [
  {
   "cell_type": "markdown",
   "metadata": {},
   "source": [
    "# API Test HACKS\n",
    "> Week 7\n",
    "- toc: true\n",
    "- categories: [Week 7]\n",
    "- comments: true"
   ]
  },
  {
   "cell_type": "markdown",
   "metadata": {},
   "source": [
    "### Using the Random number API that will help for the Minesweeper Project\n",
    "- This random number API can be used for creating mine coordinates in the minesweeper final project that our group is creating\n",
    "- [Link for Instructions on how to use the API](https://www.randomnumberapi.com/)\n",
    "- [API on Gitub](https://github.com/jameskozlowski/randomnumberapi)"
   ]
  },
  {
   "cell_type": "code",
   "execution_count": 13,
   "metadata": {},
   "outputs": [
    {
     "name": "stdout",
     "output_type": "stream",
     "text": [
      "[104, 41, 56, 28, 1, 43, 59, 113, 100, 191, 31, 164, 49, 155, 94, 108, 184, 127, 58, 99]\n"
     ]
    }
   ],
   "source": [
    "import requests\n",
    "\n",
    "url = \"http://www.randomnumberapi.com/api/v1.0/random?min=0&max=200&count=20\"\n",
    "\n",
    "response = requests.request(\"GET\", url)\n",
    "\n",
    "print(response.text)\n"
   ]
  },
  {
   "cell_type": "markdown",
   "metadata": {},
   "source": [
    "### Using two APIs and formatters to display weather information about a particular location\n",
    "- First API generates the latitude and longitidude of a particular location (in this case we chose 92127)\n",
    "- The latitude and longitude from this API is used in the second API to provide location and weather data\n",
    "- This is all in JSON format which can be \"prettified\" using JSON formatters\""
   ]
  },
  {
   "cell_type": "code",
   "execution_count": 60,
   "metadata": {},
   "outputs": [
    {
     "name": "stdout",
     "output_type": "stream",
     "text": [
      "{\n",
      "  \"count\": 1,\n",
      "  \"data\": [\n",
      "    {\n",
      "      \"app_temp\": 67.2,\n",
      "      \"aqi\": 45,\n",
      "      \"city_name\": \"Fairbanks Ranch\",\n",
      "      \"clouds\": 33,\n",
      "      \"country_code\": \"US\",\n",
      "      \"datetime\": \"2022-10-11:01\",\n",
      "      \"dewpt\": 60.5,\n",
      "      \"dhi\": 27.47,\n",
      "      \"dni\": 216.76,\n",
      "      \"elev_angle\": 3.47,\n",
      "      \"ghi\": 31.3,\n",
      "      \"gust\": 9.7,\n",
      "      \"h_angle\": -90,\n",
      "      \"lat\": 33.0232,\n",
      "      \"lon\": -117.1242,\n",
      "      \"ob_time\": \"2022-10-11 01:30\",\n",
      "      \"pod\": \"n\",\n",
      "      \"precip\": 0,\n",
      "      \"pres\": 994.5,\n",
      "      \"rh\": 81,\n",
      "      \"slp\": 1011.4999,\n",
      "      \"snow\": 0,\n",
      "      \"solar_rad\": 30.7,\n",
      "      \"sources\": [\n",
      "        \"rtma\"\n",
      "      ],\n",
      "      \"state_code\": \"CA\",\n",
      "      \"station\": \"D2868\",\n",
      "      \"sunrise\": \"13:49\",\n",
      "      \"sunset\": \"01:21\",\n",
      "      \"temp\": 67,\n",
      "      \"timezone\": \"America/Los_Angeles\",\n",
      "      \"ts\": 1665451837,\n",
      "      \"uv\": 1.3539816,\n",
      "      \"vis\": 9.9,\n",
      "      \"weather\": {\n",
      "        \"icon\": \"c02n\",\n",
      "        \"code\": 801,\n",
      "        \"description\": \"Few clouds\"\n",
      "      },\n",
      "      \"wind_cdir\": \"W\",\n",
      "      \"wind_cdir_full\": \"west\",\n",
      "      \"wind_dir\": 261,\n",
      "      \"wind_spd\": 7.4\n",
      "    }\n",
      "  ]\n",
      "}\n"
     ]
    }
   ],
   "source": [
    "import requests, json\n",
    "\n",
    "\n",
    "url = \"https://us-zip-code-information.p.rapidapi.com/\"\n",
    "\n",
    "querystring = {\"zipcode\":\"92127\"}\n",
    "\n",
    "headers = {\n",
    "\t\"X-RapidAPI-Key\": \"6cef6d9f81mshf9a1793ed8d336ap1c4e09jsn658eb44a2a5f\",\n",
    "\t\"X-RapidAPI-Host\": \"us-zip-code-information.p.rapidapi.com\"\n",
    "}\n",
    "\n",
    "response = requests.request(\"GET\", url, headers=headers, params=querystring)\n",
    "locations = json.loads(response.text)\n",
    "lat = \"\"\n",
    "lon = \"\"\n",
    "for location in locations:\n",
    "  lat =  location[\"Latitude\"]\n",
    "  lon = location[\"Longitude\"]\n",
    "\n",
    "\n",
    "  url = \"https://weatherbit-v1-mashape.p.rapidapi.com/current\"\n",
    "\n",
    "querystring = {\"lon\":lon,\"lat\":lat, \"units\": 'imperial'}\n",
    "\n",
    "headers = {\n",
    "\t\"X-RapidAPI-Key\": \"6cef6d9f81mshf9a1793ed8d336ap1c4e09jsn658eb44a2a5f\",\n",
    "\t\"X-RapidAPI-Host\": \"weatherbit-v1-mashape.p.rapidapi.com\"\n",
    "}\n",
    "\n",
    "response = requests.request(\"GET\", url, headers=headers, params=querystring)\n",
    "\n",
    "json_object = json.loads(response.text)\n",
    "\n",
    "json_formatted_str = json.dumps(json_object, indent=2)\n",
    "\n",
    "print(json_formatted_str)\n",
    "      \n"
   ]
  }
 ],
 "metadata": {
  "kernelspec": {
   "display_name": "Python 3.10.6 64-bit (microsoft store)",
   "language": "python",
   "name": "python3"
  },
  "language_info": {
   "codemirror_mode": {
    "name": "ipython",
    "version": 3
   },
   "file_extension": ".py",
   "mimetype": "text/x-python",
   "name": "python",
   "nbconvert_exporter": "python",
   "pygments_lexer": "ipython3",
   "version": "3.10.6"
  },
  "orig_nbformat": 4,
  "vscode": {
   "interpreter": {
    "hash": "dc5407af6d5b81b343ff37fc9a0fc4ce640cd799ad52d618c06b575d95b9b3ed"
   }
  }
 },
 "nbformat": 4,
 "nbformat_minor": 2
}
