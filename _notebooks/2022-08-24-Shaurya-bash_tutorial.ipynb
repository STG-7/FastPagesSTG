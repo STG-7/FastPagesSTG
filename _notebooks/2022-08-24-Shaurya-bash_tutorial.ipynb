{
 "cells": [
  {
   "cell_type": "markdown",
   "metadata": {},
   "source": [
    "# Shaurya Goel's BASH Tutorial Hacks\n",
    "> Checks is required tools are installed and creates directory structure, and clones / pulls lastest changes from github\n",
    "- toc: true\n",
    "- comments: true\n",
    "- categories: [Week 1]"
   ]
  },
  {
   "cell_type": "markdown",
   "metadata": {},
   "source": [
    "### My Hacks\n",
    "- Workspace Setup:\n",
    "    - Automate cloning git repositories into my working directory\n",
    "    - Automate fetching latest changes from github to my working directory\n",
    "- Automate checking tools are installed :sunglasses:\n",
    "    - Java\n",
    "    - Python\n",
    "    - Bash\n",
    "- Autoname verification using Anaconda - work in progress... :sunglasses:\n"
   ]
  },
  {
   "cell_type": "markdown",
   "metadata": {},
   "source": [
    "#### Workspace setup\n",
    "- Automate cloning the local workspace with projects from github\n",
    "- Automate updating the local workspace with projects from github\n",
    "Running this will ensure I have latest changes"
   ]
  },
  {
   "cell_type": "code",
   "execution_count": 3,
   "metadata": {
    "vscode": {
     "languageId": "shellscript"
    }
   },
   "outputs": [
    {
     "name": "stdout",
     "output_type": "stream",
     "text": [
      "Setting up local folders and checking out repository\n",
      "Directory /home/shaurya/vscode exists.\n",
      "Project /home/shaurya/vscode/APCSP updated successfully.\n",
      "Project /home/shaurya/vscode/FastPagesSTG updated successfully.\n"
     ]
    }
   ],
   "source": [
    "echo \"Setting up local folders and checking out repository\"\n",
    "git config --global user.email shauryaggamer@gmail.com\n",
    "git config --global user.name STG-7\n",
    "\n",
    "# Variable section\n",
    "export home_dir=/home/shaurya # this is only needed since there is an issue with my home dir right now\n",
    "export workspace_dir=/home/shaurya/vscode  # setting project directory to /home/shaurya\n",
    "export apcsp=$workspace_dir/APCSP  # Clone APCSP project\n",
    "export apcsp_repo=\"https://github.com/nighthawkcoders/APCSP.git\"  # APCSP URL\n",
    "\n",
    "export myproj=$workspace_dir/FastPagesSTG  # Clone my project\n",
    "export myproj_repo=\"https://github.com/STG-7/FastPagesSTG.git\"  # My project URL\n",
    "\n",
    "cd $home_dir    # start in home directory\n",
    "\n",
    "# Conditional block to make a project directory\n",
    "if [ ! -d $workspace_dir ]\n",
    "then \n",
    "    echo \"Directory $workspace_dir does not exists... Setting up empty workspace directory $workspace_dir\"\n",
    "    mkdir -p $workspace_dir\n",
    "fi\n",
    "echo \"Directory $workspace_dir exists.\" \n",
    "\n",
    "# Conditional block to git clone a apcsp from apcsp_repo\n",
    "if [ ! -d $apcsp ]\n",
    "then\n",
    "    echo \"Project $apcsp does not exists... cloning $apcsp_repo\"\n",
    "    cd $workspace_dir\n",
    "    git clone $apcsp_repo\n",
    "    echo \"Project $apcsp cloned successfully.\" \n",
    "    cd $home_dir\n",
    "else \n",
    "    cd $apcsp\n",
    "    git fetch origin\n",
    "    echo \"Project $apcsp updated successfully.\" \n",
    "    cd $workspace_dir\n",
    "fi\n",
    "\n",
    "# Conditional block to git clone a myproj from myproj_repo\n",
    "if [ ! -d $myproj ]\n",
    "then\n",
    "    echo \"Project $myproj does not exists... cloning $myproj_repo\"\n",
    "    cd $workspace_dir\n",
    "    git clone $myproj_repo\n",
    "    echo \"Project $myproj cloned successfully.\" \n",
    "    cd $home_dir\n",
    "else \n",
    "    cd $myproj\n",
    "    git fetch origin\n",
    "    echo \"Project $myproj updated successfully.\" \n",
    "    cd $workspace_dir\n",
    "fi"
   ]
  },
  {
   "cell_type": "markdown",
   "metadata": {},
   "source": [
    "#### Environment Validation\n",
    "- Automate checking if I have following kernels\n",
    "    - Javascript\n",
    "    - Python3\n",
    "    - Bash"
   ]
  },
  {
   "cell_type": "code",
   "execution_count": 4,
   "metadata": {
    "vscode": {
     "languageId": "shellscript"
    }
   },
   "outputs": [
    {
     "name": "stdout",
     "output_type": "stream",
     "text": [
      "Javascript Kernel Exists\n",
      "Python Kernel Exists\n",
      "Bash Kernel Exists\n"
     ]
    }
   ],
   "source": [
    "js=0\n",
    "p3=0\n",
    "ba=0\n",
    "jupyter kernelspec list | awk '{print $1}' | while read line;\n",
    "do\n",
    "        if [ \"$line\" = \"javascript\" ]\n",
    "        then\n",
    "                js=1\n",
    "        elif [ \"$line\" = \"python3\" ]\n",
    "        then\n",
    "                p3=1\n",
    "        elif [ \"$line\" = \"bash\" ]\n",
    "        then\n",
    "                ba=1\n",
    "        fi\n",
    "done\n",
    "\n",
    "if [ js == 0 ]\n",
    "then\n",
    "        echo \"Javascript Kernel Not Found\"\n",
    "else\n",
    "        echo \"Javascript Kernel Exists\"\n",
    "fi\n",
    "\n",
    "if [ p3 == 0 ]\n",
    "then\n",
    "        echo \"Python Kernel Not Found\"\n",
    "else\n",
    "        echo \"Python Kernel Exists\"\n",
    "fi\n",
    "\n",
    "if [ ba == 0 ]\n",
    "then\n",
    "        echo \"Bash Kernel Not Found\"\n",
    "else\n",
    "        echo \"Bash Kernel Exists\"\n",
    "fi"
   ]
  },
  {
   "cell_type": "markdown",
   "metadata": {},
   "source": [
    "#### Verifying tools using conda\n",
    "- Automate checking if I have following kernels\n",
    "    - Javascript\n",
    "    - Python3\n",
    "    - Bash\n",
    "    - Ipykernel\n"
   ]
  },
  {
   "cell_type": "code",
   "execution_count": 5,
   "metadata": {
    "vscode": {
     "languageId": "shellscript"
    }
   },
   "outputs": [
    {
     "name": "stdout",
     "output_type": "stream",
     "text": [
      "Python installed with version 3.9.12\n",
      "ipykernel installed with version 6.9.1\n",
      "conda installed with version 4.13.0\n",
      "bash-kernel installed with version 0.7.2\n",
      "jupyter installed with version 1.0.0\n"
     ]
    }
   ],
   "source": [
    "package_list=/tmp/packagelist.txt\n",
    "if [[ ! -f $package_list ]]\n",
    "then\n",
    "        conda list -n base > $package_list\n",
    "fi\n",
    "\n",
    "python_ver=`awk '$1 == \"python\" { print $2 }' /tmp/packagelist.txt`\n",
    "if [ $python_ver == \"\" ]\n",
    "then\n",
    "        echo \"Python not installed\"\n",
    "else\n",
    "        echo \"Python installed with version $python_ver\"\n",
    "fi\n",
    "\n",
    "ipykernel_ver=`awk '$1 == \"ipykernel\" { print $2 }' /tmp/packagelist.txt`\n",
    "if [ $ipykernel_ver == \"\" ]\n",
    "then\n",
    "        echo \"ipykernel not installed\"\n",
    "else\n",
    "        echo \"ipykernel installed with version $ipykernel_ver\"\n",
    "fi\n",
    "\n",
    "conda_ver=`awk '$1 == \"conda\" { print $2 }' /tmp/packagelist.txt`\n",
    "if [ $conda_ver == \"\" ]\n",
    "then\n",
    "        echo \"conda not installed\"\n",
    "else\n",
    "        echo \"conda installed with version $conda_ver\"\n",
    "fi\n",
    "\n",
    "bash_kernel_ver=`awk '$1 == \"bash-kernel\" { print $2 }' /tmp/packagelist.txt`\n",
    "if [ $bash_kernel_ver == \"\" ]\n",
    "then\n",
    "        echo \"bash-kernel not installed\"\n",
    "else\n",
    "        echo \"bash-kernel installed with version $bash_kernel_ver\"\n",
    "fi\n",
    "\n",
    "jupyter_ver=`awk '$1 == \"jupyter\" { print $2 }' /tmp/packagelist.txt`\n",
    "if [ $jupyter_ver == \"\" ]\n",
    "then\n",
    "        echo \"jupyter not installed\"\n",
    "else\n",
    "        echo \"jupyter installed with version $jupyter_ver\"\n",
    "fi"
   ]
  }
 ],
 "metadata": {
  "kernelspec": {
   "display_name": "Python 3.8.10 64-bit",
   "language": "python",
   "name": "python3"
  },
  "language_info": {
   "codemirror_mode": "shell",
   "file_extension": ".sh",
   "mimetype": "text/x-sh",
   "name": "python",
   "version": "3.8.10"
  },
  "orig_nbformat": 4,
  "vscode": {
   "interpreter": {
    "hash": "916dbcbb3f70747c44a77c7bcd40155683ae19c65e1c03b4aa3499c5328201f1"
   }
  }
 },
 "nbformat": 4,
 "nbformat_minor": 2
}
