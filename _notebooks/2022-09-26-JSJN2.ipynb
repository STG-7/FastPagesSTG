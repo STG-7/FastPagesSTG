{
 "cells": [
  {
   "cell_type": "markdown",
   "metadata": {},
   "source": [
    "# Usage of Jupyter JavaScript kernel\n",
    "> Week 5\n",
    "- toc: true\n",
    "- categories: [Week 5]\n",
    "- comments: true"
   ]
  },
  {
   "cell_type": "markdown",
   "metadata": {},
   "source": [
    "### Defining a dictionary with data"
   ]
  },
  {
   "cell_type": "code",
   "execution_count": null,
   "metadata": {},
   "outputs": [],
   "source": [
    "var dict = {\n",
    "\n",
    "    ScrumLeader: \"Shaurya Goel\",\n",
    " \n",
    "    BackendDeveloper: \"Alex Lu\",\n",
    " \n",
    "    FrontendDeveloper: \"Haseeb Beg\",\n",
    " \n",
    "    FrontendDeveloper2: \"Tirth Thakar\",\n",
    " \n",
    "    DevOps: \"Evan Apari\",\n",
    " \n",
    " };"
   ]
  },
  {
   "cell_type": "code",
   "execution_count": 3,
   "metadata": {},
   "outputs": [
    {
     "ename": "ReferenceError",
     "evalue": "Group is not defined",
     "output_type": "error",
     "traceback": [
      "evalmachine.<anonymous>:2",
      "Group.prototype._toHtml = function() {",
      "^",
      "",
      "ReferenceError: Group is not defined",
      "    at evalmachine.<anonymous>:2:1",
      "    at ContextifyScript.Script.runInThisContext (vm.js:25:33)",
      "    at Object.runInThisContext (vm.js:97:38)",
      "    at run ([eval]:1020:15)",
      "    at onRunRequest ([eval]:864:18)",
      "    at onMessage ([eval]:828:13)",
      "    at emitTwo (events.js:106:13)",
      "    at process.emit (events.js:191:7)",
      "    at process.nextTick (internal/child_process.js:758:12)",
      "    at _combinedTickCallback (internal/process/next_tick.js:73:7)"
     ]
    }
   ],
   "source": [
    "\n",
    "\n",
    "\n",
    "// define an HTML conversion \"method\" associated with GrouGroup.prototype._toHtml = function() {\n",
    "    // HTML Style is build using inline structure\n",
    "    var style = (\n",
    "      \"display:inline-block;\" +\n",
    "      \"border: 2px solid grey;\" +\n",
    "      \"box-shadow: 0.8em 0.4em 0.4em grey;\"\n",
    "    );\n",
    "  \n",
    "    // HTML Body of Table is build as a series of concatenations (+=)\n",
    "    var body = \"\";\n",
    "    // Heading for Array Columns\n",
    "    body += \"<tr>\";\n",
    "    body += \"<th><mark>\" + \"Postition\" + \"</mark></th>\";\n",
    "    body += \"<th><mark>\" + \"Name\" + \"</mark></th>\";\n",
    "    body += \"</tr>\";\n",
    "    // Data of Array, iterate through each row of delnorte.group \n",
    "    for (var row of dict) {\n",
    "      // tr for each row, a new line\n",
    "      body += \"<tr>\";\n",
    "      // td for each column of data\n",
    "      body += \"<td>\" + row.name + \"</td>\";\n",
    "      body += \"<td>\" + row.favcolor + \"</td>\";\n",
    "      body += \"<td>\" + row.age + \"</td>\";\n",
    "      body += \"<td>\" + row.role + \"</td>\";\n",
    "      // tr to end line\n",
    "      body += \"<tr>\";\n",
    "    }\n",
    "  \n",
    "     // Build and HTML fragment of div, table, table body\n",
    "    return (\n",
    "      \"<div style='\" + style + \"'>\" +\n",
    "        \"<table>\" +\n",
    "          body +\n",
    "        \"</table>\" +\n",
    "      \"</div>\"\n",
    "    );\n",
    "  \n",
    "  };\n",
    "  \n",
    "  // IJavaScript HTML processor receive parameter of defined HTML fragment\n",
    "  $$.html(delnorte._toHtml());"
   ]
  }
 ],
 "metadata": {
  "kernelspec": {
   "display_name": "JavaScript (Node.js)",
   "language": "javascript",
   "name": "javascript"
  },
  "language_info": {
   "file_extension": ".js",
   "mimetype": "application/javascript",
   "name": "javascript",
   "version": "6.11.2"
  },
  "orig_nbformat": 4,
  "vscode": {
   "interpreter": {
    "hash": "916dbcbb3f70747c44a77c7bcd40155683ae19c65e1c03b4aa3499c5328201f1"
   }
  }
 },
 "nbformat": 4,
 "nbformat_minor": 2
}
