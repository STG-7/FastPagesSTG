{
 "cells": [
  {
   "cell_type": "markdown",
   "metadata": {},
   "source": [
    "# Correcting Errors Challenge (Burger, Fries, and Drink)\n",
    "> Week 7\n",
    "- toc: true\n",
    "- categories: [Week 7]\n",
    "- comments: true"
   ]
  },
  {
   "cell_type": "markdown",
   "metadata": {},
   "source": [
    "1. First code prints the menu to console using iteration of the menu dictionary\n",
    "2. User input is prompted for items that can be selected in the menu\n",
    "3. Users can add as many items from the menu as they can, included duplicates\n",
    "4. Background processes occurs as users at these items, totaling up the price as each item is added\n",
    "5. Once the user click escape, the program terminates and the total price is listed"
   ]
  },
  {
   "cell_type": "code",
   "execution_count": 16,
   "metadata": {},
   "outputs": [
    {
     "name": "stdout",
     "output_type": "stream",
     "text": [
      "Full Menu\n",
      "Burger : $3.99\n",
      "Fries : $1.99\n",
      "Drink : $0.99\n",
      "Total Cost : $5.98\n",
      "Have a nice day!\n"
     ]
    }
   ],
   "source": [
    "menu =  {\"Burger\": 3.99,\n",
    "         \"Fries\": 1.99,\n",
    "         \"Drink\": 0.99}\n",
    "total = 0\n",
    "\n",
    "\n",
    "print(\"Full Menu\")\n",
    "for k,v in menu.items():\n",
    "    print(k + \" : $\" + str(v)) \n",
    "\n",
    "\n",
    "order = True\n",
    "while order:   \n",
    "    item = input(\"Please select your items from the menu, click escape when you are done\")\n",
    "    if item in menu.keys(): \n",
    "        total+= menu[item]\n",
    "    else:           \n",
    "        order = False\n",
    "        \n",
    "print(\"Total Cost : $\" + str(total))\n",
    "print(\"Have a nice day!\")"
   ]
  }
 ],
 "metadata": {
  "kernelspec": {
   "display_name": "Python 3.10.6 64-bit (microsoft store)",
   "language": "python",
   "name": "python3"
  },
  "language_info": {
   "codemirror_mode": {
    "name": "ipython",
    "version": 3
   },
   "file_extension": ".py",
   "mimetype": "text/x-python",
   "name": "python",
   "nbconvert_exporter": "python",
   "pygments_lexer": "ipython3",
   "version": "3.10.6"
  },
  "orig_nbformat": 4,
  "vscode": {
   "interpreter": {
    "hash": "dc5407af6d5b81b343ff37fc9a0fc4ce640cd799ad52d618c06b575d95b9b3ed"
   }
  }
 },
 "nbformat": 4,
 "nbformat_minor": 2
}
