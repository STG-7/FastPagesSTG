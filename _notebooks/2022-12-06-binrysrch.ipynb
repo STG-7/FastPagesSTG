{
 "cells": [
  {
   "cell_type": "markdown",
   "metadata": {},
   "source": [
    "# Sections 9 and 11 HACKS\n",
    "> Section 9 and 11 HACKS - Shaurya Goel\n",
    "- toc: true\n",
    "- comments: true"
   ]
  },
  {
   "cell_type": "markdown",
   "metadata": {},
   "source": [
    "## Question 1 HACK\n",
    "\n",
    "```\n",
    "{\n",
    "if(isRaining){\n",
    "    day --> \"cold\"\n",
    "}\n",
    "if(isCold){\n",
    "    day --> \"cold\"\n",
    "}\n",
    "}\n",
    "```"
   ]
  },
  {
   "cell_type": "markdown",
   "metadata": {},
   "source": [
    "## Question 2 HACK"
   ]
  },
  {
   "cell_type": "code",
   "execution_count": 10,
   "metadata": {},
   "outputs": [
    {
     "name": "stdout",
     "output_type": "stream",
     "text": [
      "8\n",
      "7\n"
     ]
    }
   ],
   "source": [
    "import random\n",
    "\n",
    "def turn():\n",
    "    max_int = 0\n",
    "    for i in range(4):\n",
    "        nint = random.randint(1, 10)\n",
    "        if nint > max_int:\n",
    "            max_int = nint\n",
    "    print(max_int)\n",
    "\n",
    "turn()\n",
    "turn()\n"
   ]
  },
  {
   "cell_type": "markdown",
   "metadata": {},
   "source": [
    "# Question 3 HACK\n",
    "```\n",
    "{\n",
    "if CANMOVEFORWARD{\n",
    "    moveForwards\n",
    "}\n",
    "else{\n",
    "    if CANTURNRIGHT{\n",
    "        turnright\n",
    "    }\n",
    "    if CANTURNLEFT{\n",
    "        turnleft\n",
    "    }\n",
    "}\n",
    "}\n",
    "```"
   ]
  },
  {
   "cell_type": "markdown",
   "metadata": {},
   "source": [
    "## Questions 4 & 5 HACKS\n",
    "\n",
    "**Explanation:**  \n",
    "\n",
    "**You would start your search for element 69 by looking at the middle index, 5, first (4.5, round up to 5). That is six. Six being less than 69 would lead you to consider the greater than half. The middle index for this section is 7 (5+9 = 14/2 = 7). Index number seven is 11, which is lower than index number 69. The eighth index is next examined ((8+8)/2 = 8). We searched and discovered the right number because 8 = 69.**"
   ]
  },
  {
   "cell_type": "markdown",
   "metadata": {},
   "source": [
    "## Diagram for Question 4"
   ]
  },
  {
   "cell_type": "markdown",
   "metadata": {},
   "source": [
    "## Question 7 HACK\n",
    "`[\"Market”, ”Ralphs”, “store”, \"Target”, ”Walmart”]`\n",
    "\n",
    "**To put them in alphabetical order, ascending, you may add these in this order. As numbers are greater, you can compare which numerical value of these ascii characters is greater, allowing these to be appropriately compared.**"
   ]
  },
  {
   "cell_type": "markdown",
   "metadata": {},
   "source": [
    "## Question 8 HACK\n",
    "\n",
    "Due to the fact that binary search automatically rules out half of the options with each iteration, it is much faster than sequential search. Since you begin at the middle index, you can either select the group that is higher or lower than the middle index. As a result, each time you make a cut, you will eliminate half of the potential outcomes."
   ]
  },
  {
   "cell_type": "markdown",
   "metadata": {},
   "source": [
    "## Question 9 HACK\n",
    "\n",
    "Out of the list `[64,36,16,11,9] `, I would be looking for number 36. First, I would choose the middle element ((1+5)/2 = 3, which is the middle element for collegeboard purposes), and since 16 is less than 36, I would shift back (as the list is reversed). As a result, I would choose the second element (1+3/2 = 2), which equals 36, therefore it would take me two tries to reach 36."
   ]
  },
  {
   "cell_type": "markdown",
   "metadata": {},
   "source": [
    "## Binary Search in Python HACK"
   ]
  },
  {
   "cell_type": "code",
   "execution_count": 12,
   "metadata": {},
   "outputs": [
    {
     "name": "stdout",
     "output_type": "stream",
     "text": [
      "trying search with lst searching for 5\n",
      "reversed\n",
      "3\n",
      "5\n",
      "trying search with lst searching for 1\n",
      "reversed\n",
      "3\n",
      "2\n",
      "1\n"
     ]
    }
   ],
   "source": [
    "lst = [1,2,3,4,5,6]\n",
    "lst.reverse()\n",
    "def binarySearch(lst, toFind):\n",
    "    min = 0 \n",
    "    max = len(lst)-1 \n",
    "    reversed = False\n",
    "    if lst[min] > lst[max]:\n",
    "        lst.reverse()\n",
    "        reversed = True\n",
    "        print(\"reversed\")\n",
    "      \n",
    "    while True:\n",
    "        ind = int(round((min+max)/2)) \n",
    "        mid = lst[ind] \n",
    "        print(mid)\n",
    "        if mid == toFind: \n",
    "            if reversed:\n",
    "                lst.reverse()\n",
    "            return \n",
    "        else: \n",
    "            if mid < toFind: \n",
    "                min = ind\n",
    "            else: \n",
    "                max = ind\n",
    "print(\"trying search with lst searching for 5\")\n",
    "binarySearch(lst, 5)\n",
    "print(\"trying search with lst searching for 1\")\n",
    "binarySearch(lst, 1)\n"
   ]
  }
 ],
 "metadata": {
  "kernelspec": {
   "display_name": "Python 3.10.8 64-bit (microsoft store)",
   "language": "python",
   "name": "python3"
  },
  "language_info": {
   "codemirror_mode": {
    "name": "ipython",
    "version": 3
   },
   "file_extension": ".py",
   "mimetype": "text/x-python",
   "name": "python",
   "nbconvert_exporter": "python",
   "pygments_lexer": "ipython3",
   "version": "3.10.8"
  },
  "orig_nbformat": 4,
  "vscode": {
   "interpreter": {
    "hash": "dc5407af6d5b81b343ff37fc9a0fc4ce640cd799ad52d618c06b575d95b9b3ed"
   }
  }
 },
 "nbformat": 4,
 "nbformat_minor": 2
}
