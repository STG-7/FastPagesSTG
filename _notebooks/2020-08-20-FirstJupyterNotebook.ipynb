# "My First Jupyter notebook"
> "My First Jupyter notebook!"

- toc:true- branch: master
- badges: true
- comments: true
- author: Shaurya Goel
- categories: [fastpages, jupyter]


print('The comment #collapse-output was used to collapse the output of this cell by default but you can expand it.')



