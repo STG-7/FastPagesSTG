{
 "cells": [
  {
   "cell_type": "markdown",
   "metadata": {},
   "source": [
    "# Binary Search in Python HACK (Extra Credit)\n",
    "> Section 9 and 11 Extra Credit 1 - Shaurya Goel\n",
    "- toc: true\n",
    "- comments: true"
   ]
  },
  {
   "cell_type": "code",
   "execution_count": null,
   "metadata": {},
   "outputs": [],
   "source": [
    "lst = [1,2,3,4,5,6]\n",
    "lst.reverse()\n",
    "def binarySearch(lst, toFind):\n",
    "    min = 0 \n",
    "    max = len(lst)-1 \n",
    "    reversed = False\n",
    "    if lst[min] > lst[max]:\n",
    "        lst.reverse()\n",
    "        reversed = True\n",
    "        print(\"reversed\")\n",
    "      \n",
    "    while True:\n",
    "        ind = int(round((min+max)/2)) \n",
    "        mid = lst[ind] \n",
    "        print(mid)\n",
    "        if mid == toFind: \n",
    "            if reversed:\n",
    "                lst.reverse()\n",
    "            return \n",
    "        else: \n",
    "            if mid < toFind: \n",
    "                min = ind\n",
    "            else: \n",
    "                max = ind\n",
    "print(\"searching for 5\")\n",
    "binarySearch(lst, 5)\n",
    "print(\"searching for 1\")\n",
    "binarySearch(lst, 1)"
   ]
  }
 ],
 "metadata": {
  "kernelspec": {
   "display_name": "Python 3.10.8 64-bit (microsoft store)",
   "language": "python",
   "name": "python3"
  },
  "language_info": {
   "name": "python",
   "version": "3.10.8"
  },
  "orig_nbformat": 4,
  "vscode": {
   "interpreter": {
    "hash": "dc5407af6d5b81b343ff37fc9a0fc4ce640cd799ad52d618c06b575d95b9b3ed"
   }
  }
 },
 "nbformat": 4,
 "nbformat_minor": 2
}
