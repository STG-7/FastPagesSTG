{
 "cells": [
  {
   "cell_type": "markdown",
   "metadata": {},
   "source": [
    "# 3.1 Variables and Assignments 2 HACKS\n",
    "\n",
    "> HACKS for this file. Anything written in **bold** is written by me\n",
    "\n",
    "- toc: true\n",
    "- branch: master\n",
    "- badges: true\n",
    "- comments: true\n",
    "- categories: [HACKS]\n",
    "- title: 3.1 Variables and Assignments Video 2"
   ]
  },
  {
   "cell_type": "markdown",
   "metadata": {},
   "source": [
    "### Hacks for the lesson\n",
    "\n",
    "Score: 6/6\n",
    "\n",
    "1; in a store the number of apples can change from coustomers taking them and the store restocking them. This means that there's addition and subtraction is going on, which tells us the the variable type is an integer. Which is why I chose 1 as my answer.\n",
    "\n",
    "3; the variable type must be boolean because we're looking for a True or False output this leaves choices 2 and 3 but 3 is chosen since \"isCold\" is more specific than \"weather\".\n",
    "\n",
    "1; the variable type is string since ID numbers can't be added or subracted by a value, leaving 1 as the answer.\n",
    "\n",
    "2; the variable is too long.\n",
    "\n",
    "1; only booleans have the ablity to store a variable as true or false.\n",
    "\n",
    "4; integers have the ability to preform operations on themselves while strings can only store a \"dialague\" of numbers and not an actual integer values.\n",
    "\n",
    "Making Questions\n",
    "\n",
    "Determine the type of data that should be used to answer the following question:\n",
    "\n",
    "What is your name? Answer: string\n",
    "\n",
    "True or false, is Soccer fun? Answer:Boolean\n",
    "\n",
    "How many commits do you have on github? Answer: integer"
   ]
  }
 ],
 "metadata": {
  "kernelspec": {
   "display_name": "Python 3.10.8 64-bit (microsoft store)",
   "language": "python",
   "name": "python3"
  },
  "language_info": {
   "codemirror_mode": {
    "name": "ipython",
    "version": 3
   },
   "file_extension": ".py",
   "mimetype": "text/x-python",
   "name": "python",
   "nbconvert_exporter": "python",
   "pygments_lexer": "ipython3",
   "version": "3.10.8"
  },
  "orig_nbformat": 4,
  "vscode": {
   "interpreter": {
    "hash": "dc5407af6d5b81b343ff37fc9a0fc4ce640cd799ad52d618c06b575d95b9b3ed"
   }
  }
 },
 "nbformat": 4,
 "nbformat_minor": 2
}
