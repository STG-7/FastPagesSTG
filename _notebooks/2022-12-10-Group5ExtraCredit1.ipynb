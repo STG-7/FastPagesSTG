{
 "cells": [
  {
   "cell_type": "markdown",
   "metadata": {},
   "source": [
    "# Binary Search using Python (Extra Credit Work for Group 5)\n",
    "> Section 9 and 11 Extra Credit 1 - Shaurya Goel\n",
    "- toc: true\n",
    "- comments: true"
   ]
  },
  {
   "cell_type": "markdown",
   "metadata": {},
   "source": [
    "# Binary Search Method 1 - Python\n",
    "\n",
    "Explanation of Code:\n",
    "\n",
    "**We have created a function called binary_search() function which takes two arguments - a list to sorted and a number to be searched.**\n",
    "\n",
    "- We have declared two variables to store the lowest and highest values in the list. The low is assigned initial value to 0, high to len(list1) - 1 and mid as 0.\n",
    "- Next, we have declared the while loop with the condition that the lowest is equal and smaller than the highest The while loop will iterate if the number has not been found yet.\n",
    "- In the while loop, we find the mid value and compare the index value to the number we are searching for.\n",
    "- If the value of the mid-index is smaller than n, we increase the mid value by 1 and assign it to The search moves to the left side.\n",
    "- Otherwise, decrease the mid value and assign it to the high. The search moves to the right side.\n",
    "- If the n is equal to the mid value then return mid.\n",
    "- This will happen until the low is equal and smaller than the high.\n",
    "- If we reach at the end of the function, then the element is not present in the list. We return -1 to the calling function.\n"
   ]
  },
  {
   "cell_type": "code",
   "execution_count": null,
   "metadata": {},
   "outputs": [],
   "source": [
    "# Binary Search in python\n",
    "\n",
    "\n",
    "def binarySearch(array, x, low, high):\n",
    "\n",
    "    # Repeat until the pointers low and high meet each other\n",
    "    while low <= high:\n",
    "\n",
    "        mid = low + (high - low)//2\n",
    "\n",
    "        if array[mid] == x:\n",
    "            return mid\n",
    "\n",
    "        elif array[mid] < x:\n",
    "            low = mid + 1\n",
    "\n",
    "        else:\n",
    "            high = mid - 1\n",
    "\n",
    "    return -1\n",
    "\n",
    "\n",
    "array = [3, 4, 5, 6, 7, 8, 9]\n",
    "x = 4\n",
    "\n",
    "result = binarySearch(array, x, 0, len(array)-1)\n",
    "\n",
    "if result != -1:\n",
    "    print(\"Element is present at index \" + str(result))\n",
    "else:\n",
    "    print(\"Not found\")"
   ]
  },
  {
   "cell_type": "markdown",
   "metadata": {},
   "source": [
    "# Binary Search Method 2 - Python\n",
    "\n",
    "Explanation of Code:\n",
    "\n",
    "**Declared a recursive function and its base condition. The condition is the lowest value is smaller or equal to the highest value.**\n",
    "\n",
    "- We calculate the middle number as in the last program.\n",
    "- We have used the if statement to proceed with the binary search.\n",
    "- If the middle value equal to the number that we are looking for, the middle value is returned.\n",
    "- If the middle value is less than the value, we are looking then our recursive function binary_search() again and increase the mid value by one and assign to low.\n",
    "- If the middle value is greater than the value we are looking then our recursive function binary_search() again and decrease the mid value by one and assign it to low.\n"
   ]
  },
  {
   "cell_type": "code",
   "execution_count": null,
   "metadata": {},
   "outputs": [],
   "source": [
    "# Binary Search in python\n",
    "\n",
    "\n",
    "def binarySearch(array, x, low, high):\n",
    "\n",
    "    if high >= low:\n",
    "\n",
    "        mid = low + (high - low)//2\n",
    "\n",
    "        # If found at mid, then return it\n",
    "        if array[mid] == x:\n",
    "            return mid\n",
    "\n",
    "        # Search the left half\n",
    "        elif array[mid] > x:\n",
    "            return binarySearch(array, x, low, mid-1)\n",
    "\n",
    "        # Search the right half\n",
    "        else:\n",
    "            return binarySearch(array, x, mid + 1, high)\n",
    "\n",
    "    else:\n",
    "        return -1\n",
    "\n",
    "\n",
    "array = [3, 4, 5, 6, 7, 8, 9]\n",
    "x = 4\n",
    "\n",
    "result = binarySearch(array, x, 0, len(array)-1)\n",
    "\n",
    "if result != -1:\n",
    "    print(\"Element is present at index \" + str(result))\n",
    "else:\n",
    "    print(\"Not found\")"
   ]
  },
  {
   "cell_type": "markdown",
   "metadata": {},
   "source": [
    "# Binary Search Method 3 - Python"
   ]
  },
  {
   "cell_type": "code",
   "execution_count": null,
   "metadata": {},
   "outputs": [],
   "source": [
    "List = [1,2,3,4,5,6]\n",
    "List.reverse()\n",
    "def binarySearch(List, toFind):\n",
    "    min = 0 \n",
    "    max = len(List)-1 \n",
    "    reversed = False\n",
    "    if List[min] > List[max]:\n",
    "        List.reverse()\n",
    "        reversed = True\n",
    "        print(\"reversed\")\n",
    "      \n",
    "    while True:\n",
    "        ind = int(round((min+max)/2)) \n",
    "        mid = List[ind] \n",
    "        print(mid)\n",
    "        if mid == toFind: \n",
    "            if reversed:\n",
    "                List.reverse()\n",
    "            return \n",
    "        else: \n",
    "            if mid < toFind: \n",
    "                min = ind\n",
    "            else: \n",
    "                max = ind\n",
    "print(\"searching for 5\")\n",
    "binarySearch(List, 5)\n",
    "print(\"searching for 1\")\n",
    "binarySearch(List, 1)"
   ]
  },
  {
   "cell_type": "markdown",
   "metadata": {},
   "source": [
    "# Binary Search Method 4 - Python"
   ]
  },
  {
   "cell_type": "code",
   "execution_count": null,
   "metadata": {},
   "outputs": [],
   "source": [
    "def binary_search(item_list,item):\n",
    "\tfirst = 0\n",
    "\tlast = len(item_list)-1\n",
    "\tfound = False\n",
    "\twhile( first<=last and not found):\n",
    "\t\tmid = (first + last)//2\n",
    "\t\tif item_list[mid] == item :\n",
    "\t\t\tfound = True\n",
    "\t\telse:\n",
    "\t\t\tif item < item_list[mid]:\n",
    "\t\t\t\tlast = mid - 1\n",
    "\t\t\telse:\n",
    "\t\t\t\tfirst = mid + 1\t\n",
    "\treturn found\n",
    "\t\n",
    "print(binary_search([1,2,3,5,8], 6))\n",
    "print(binary_search([1,2,3,5,8], 5))"
   ]
  }
 ],
 "metadata": {
  "kernelspec": {
   "display_name": "Python 3.10.8 64-bit (microsoft store)",
   "language": "python",
   "name": "python3"
  },
  "language_info": {
   "name": "python",
   "version": "3.10.8"
  },
  "orig_nbformat": 4,
  "vscode": {
   "interpreter": {
    "hash": "dc5407af6d5b81b343ff37fc9a0fc4ce640cd799ad52d618c06b575d95b9b3ed"
   }
  }
 },
 "nbformat": 4,
 "nbformat_minor": 2
}
